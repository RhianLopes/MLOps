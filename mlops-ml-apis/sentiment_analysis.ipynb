{
  "nbformat": 4,
  "nbformat_minor": 0,
  "metadata": {
    "colab": {
      "provenance": []
    },
    "kernelspec": {
      "name": "python3",
      "display_name": "Python 3"
    },
    "language_info": {
      "name": "python"
    }
  },
  "cells": [
    {
      "cell_type": "code",
      "execution_count": null,
      "metadata": {
        "id": "_kxby_lROVaV"
      },
      "outputs": [],
      "source": [
        "from textblob import TextBlob"
      ]
    },
    {
      "cell_type": "code",
      "source": [
        "frase = \"Python é ótimo para Machine Learning\"\n",
        "tb = TextBlob(frase)\n",
        "tben = tb.translate(from_lang='pt', to='en')"
      ],
      "metadata": {
        "id": "r3POc1uVOmq7"
      },
      "execution_count": null,
      "outputs": []
    },
    {
      "cell_type": "code",
      "source": [
        "tb.sentiment.polarity"
      ],
      "metadata": {
        "colab": {
          "base_uri": "https://localhost:8080/"
        },
        "id": "gfM1zpB_OyAp",
        "outputId": "818d6a63-e81b-48a3-ea0d-412c41006fb2"
      },
      "execution_count": null,
      "outputs": [
        {
          "output_type": "execute_result",
          "data": {
            "text/plain": [
              "0.0"
            ]
          },
          "metadata": {},
          "execution_count": 12
        }
      ]
    },
    {
      "cell_type": "code",
      "source": [],
      "metadata": {
        "id": "AiAuk6MYO4ZK"
      },
      "execution_count": null,
      "outputs": []
    }
  ]
}